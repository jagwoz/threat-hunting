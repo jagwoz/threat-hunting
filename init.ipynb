{
 "cells": [
  {
   "cell_type": "code",
   "execution_count": 238,
   "id": "2d93515b",
   "metadata": {},
   "outputs": [],
   "source": [
    "import time\n",
    "import requests\n",
    "import pandas as pd\n",
    "import json\n",
    "import requests"
   ]
  },
  {
   "cell_type": "code",
   "execution_count": 239,
   "id": "b65b7989",
   "metadata": {},
   "outputs": [],
   "source": [
    "requests.packages.urllib3.disable_warnings()"
   ]
  },
  {
   "cell_type": "code",
   "execution_count": 241,
   "id": "6eb22ef7",
   "metadata": {},
   "outputs": [],
   "source": [
    "def use_VT_api_for_ip_adress(ip_adress: str) -> requests.models.Response:\n",
    "    url = \"https://www.virustotal.com/api/v3/ip_addresses/{}\".format(ip_adress)\n",
    "    headers = {\n",
    "        \"accept\": \"application/json\",\n",
    "        \"x-apikey\": \"cda6ca0fa003aaf96623ee0ffe86379342f859a476a7153325215dac42ea0220\" #fake\n",
    "    }\n",
    "\n",
    "    return requests.get(url, headers=headers, verify=False)"
   ]
  },
  {
   "cell_type": "code",
   "execution_count": 242,
   "id": "8aa4e877",
   "metadata": {},
   "outputs": [],
   "source": [
    "def create_report_row_ip(vuln_host_ip: str, suspect_ip: str) -> pd.DataFrame:\n",
    "    response = use_VT_api_for_ip_adress(suspect_ip)\n",
    "    json_report = json.loads(response.text)\n",
    "    try:    \n",
    "        json_report = json_report['data']['attributes']\n",
    "    except:\n",
    "        print(json_report)\n",
    "        print(vuln_host_ip, suspect_ip)\n",
    "    json_final_report = {\n",
    "        suspect_ip: {\n",
    "        \"vuln_host\": vuln_host_ip,\n",
    "        \"score (VirusTotal)\": \"{}/{}\".format(json_report['last_analysis_stats']['malicious'], \n",
    "                                               sum(json_report['last_analysis_stats'].values()))\n",
    "        }\n",
    "    }\n",
    "    tags = [\"malware\", \"malicious\", \"phishing\"]\n",
    "    for tag in tags:\n",
    "        if tag in response.text:\n",
    "            json_final_report[suspect_ip][tag] = response.text.count('\"result\": \"{}\"'.format(tag))\n",
    "    return pd.DataFrame.from_dict(json_final_report, orient='index')"
   ]
  },
  {
   "cell_type": "markdown",
   "id": "255556fc",
   "metadata": {},
   "source": [
    "\n",
    "<h1>ZAIMPORTOWANIE JSONA ALERTÓW</h1>\n"
   ]
  },
  {
   "cell_type": "code",
   "execution_count": 307,
   "id": "720ca704",
   "metadata": {},
   "outputs": [],
   "source": [
    "alerts = json.load(open('alert.json'))"
   ]
  },
  {
   "cell_type": "markdown",
   "id": "279094fa",
   "metadata": {},
   "source": [
    "Scalanie jsonow"
   ]
  },
  {
   "cell_type": "code",
   "execution_count": 295,
   "id": "25cd758a",
   "metadata": {},
   "outputs": [],
   "source": [
    "alerts2 = json.load(open('alert.json'))\n",
    "for hit in alerts2['hits']['hits']:\n",
    "    alerts['hits']['hits'].append(hit)"
   ]
  },
  {
   "cell_type": "code",
   "execution_count": 308,
   "id": "ca27a656",
   "metadata": {},
   "outputs": [
    {
     "data": {
      "text/plain": [
       "16"
      ]
     },
     "execution_count": 308,
     "metadata": {},
     "output_type": "execute_result"
    }
   ],
   "source": [
    "len(alerts['hits']['hits'])"
   ]
  },
  {
   "cell_type": "code",
   "execution_count": null,
   "id": "a8b21f91",
   "metadata": {
    "scrolled": false
   },
   "outputs": [],
   "source": [
    "init_table = [ \n",
    "    (hit['fields']['source.ip'][0], hit['fields']['destination.ip'][0]) for hit in alerts['hits']['hits']\n",
    "]\n",
    "init_table = list(set(init_table))\n",
    "init_table"
   ]
  },
  {
   "cell_type": "code",
   "execution_count": 310,
   "id": "6c0e606c",
   "metadata": {},
   "outputs": [
    {
     "data": {
      "text/plain": [
       "5"
      ]
     },
     "execution_count": 310,
     "metadata": {},
     "output_type": "execute_result"
    }
   ],
   "source": [
    "len(init_table)"
   ]
  },
  {
   "cell_type": "code",
   "execution_count": 311,
   "id": "5faf9f50",
   "metadata": {},
   "outputs": [
    {
     "name": "stdout",
     "output_type": "stream",
     "text": [
      "Description:\n",
      " Generates a detection alert for each external alert written to the configured indices. Enabling this rule allows you to immediately begin investigating external alerts in the app.\n",
      "\n",
      "False positives: \n"
     ]
    }
   ],
   "source": [
    "##################################### RULE INFO #####################################\n",
    "print(\"Description:\\n\", alerts['hits']['hits'][0]['_source']['signal']['rule']['description'])\n",
    "print(\"\\nFalse positives: \")\n",
    "for fp in alerts['hits']['hits'][0]['_source']['signal']['rule']['false_positives']:\n",
    "    print(fp)"
   ]
  },
  {
   "cell_type": "code",
   "execution_count": 312,
   "id": "e738c256",
   "metadata": {},
   "outputs": [
    {
     "data": {
      "text/plain": [
       "'event.kind:alert and not event.module:(endgame or endpoint)'"
      ]
     },
     "execution_count": 312,
     "metadata": {},
     "output_type": "execute_result"
    }
   ],
   "source": [
    "##################################### RULE QUERY #####################################\n",
    "' '.join(alerts['hits']['hits'][0]['fields']['signal.rule.query'][0].split())"
   ]
  },
  {
   "cell_type": "markdown",
   "id": "bf4a24e3",
   "metadata": {},
   "source": [
    "\n",
    "<h1>RAPORT VIRUSTOTAL</h1>\n"
   ]
  },
  {
   "cell_type": "code",
   "execution_count": 313,
   "id": "d8628f2b",
   "metadata": {},
   "outputs": [],
   "source": [
    "final_report = pandas.concat([create_report_row_ip(ips[1], ips[0]) for ips in init_table], axis=0)"
   ]
  },
  {
   "cell_type": "code",
   "execution_count": 314,
   "id": "ea641d40",
   "metadata": {},
   "outputs": [],
   "source": [
    "final_report_cp = final_report"
   ]
  },
  {
   "cell_type": "code",
   "execution_count": 315,
   "id": "326b4563",
   "metadata": {},
   "outputs": [],
   "source": [
    "final_report_cp.sort_values(['malware', 'malicious', 'vuln_host'], inplace=True, ascending=False)"
   ]
  },
  {
   "cell_type": "code",
   "execution_count": 316,
   "id": "a8896cfa",
   "metadata": {},
   "outputs": [],
   "source": [
    "final_report_cp = final_report_cp[(final_report_cp['score (VirusTotal)'] != '0/88') & (final_report_cp['score (VirusTotal)'] != '0/87')]"
   ]
  },
  {
   "cell_type": "code",
   "execution_count": null,
   "id": "cfe8563b",
   "metadata": {},
   "outputs": [],
   "source": [
    "with pd.option_context('display.max_rows', None, 'display.max_columns', None, 'display.precision', 3):\n",
    "    print(final_report_cp)"
   ]
  },
  {
   "cell_type": "code",
   "execution_count": null,
   "id": "4937a455",
   "metadata": {},
   "outputs": [],
   "source": []
  }
 ],
 "metadata": {
  "kernelspec": {
   "display_name": "Python 3 (ipykernel)",
   "language": "python",
   "name": "python3"
  },
  "language_info": {
   "codemirror_mode": {
    "name": "ipython",
    "version": 3
   },
   "file_extension": ".py",
   "mimetype": "text/x-python",
   "name": "python",
   "nbconvert_exporter": "python",
   "pygments_lexer": "ipython3",
   "version": "3.9.13"
  }
 },
 "nbformat": 4,
 "nbformat_minor": 5
}
